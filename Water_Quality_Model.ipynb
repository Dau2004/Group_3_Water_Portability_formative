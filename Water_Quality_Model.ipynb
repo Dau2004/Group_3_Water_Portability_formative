{
  "nbformat": 4,
  "nbformat_minor": 0,
  "metadata": {
    "colab": {
      "provenance": []
    },
    "kernelspec": {
      "name": "python3",
      "display_name": "Python 3"
    },
    "language_info": {
      "name": "python"
    }
  },
  "cells": [
    {
      "cell_type": "code",
      "execution_count": 2,
      "metadata": {
        "id": "z678BB58CahY"
      },
      "outputs": [],
      "source": [
        "import numpy as np, pandas as pd, tensorflow as tf\n",
        "tf.random.set_seed(42)\n",
        "np.random.seed(42)\n"
      ]
    },
    {
      "cell_type": "code",
      "source": [
        "df = pd.read_csv(\"water_potability.csv\")\n",
        "TARGET = \"Potability\"\n",
        "X = df.drop(columns=[TARGET])\n",
        "y = df[TARGET]\n"
      ],
      "metadata": {
        "id": "jlyzQL1dCtRu"
      },
      "execution_count": 3,
      "outputs": []
    },
    {
      "cell_type": "code",
      "source": [
        "from sklearn.compose import ColumnTransformer\n",
        "from sklearn.pipeline import Pipeline\n",
        "from sklearn.impute import SimpleImputer\n",
        "from sklearn.preprocessing import StandardScaler\n",
        "from sklearn.model_selection import train_test_split\n"
      ],
      "metadata": {
        "id": "iWtW3OQWCvp_"
      },
      "execution_count": 4,
      "outputs": []
    },
    {
      "cell_type": "code",
      "source": [
        "numeric_pipeline = Pipeline([\n",
        "    (\"impute\", SimpleImputer(strategy=\"median\")),\n",
        "    (\"scale\",  StandardScaler())\n",
        "])\n"
      ],
      "metadata": {
        "id": "mj73D8_0C2Kq"
      },
      "execution_count": 5,
      "outputs": []
    },
    {
      "cell_type": "code",
      "source": [
        "preprocess = ColumnTransformer([\n",
        "    (\"num\", numeric_pipeline, X.columns)   # every column is numeric\n",
        "])\n"
      ],
      "metadata": {
        "id": "KnswX_RRC45L"
      },
      "execution_count": 6,
      "outputs": []
    },
    {
      "cell_type": "code",
      "source": [
        "X_train_full, X_test, y_train_full, y_test = train_test_split(\n",
        "    X, y, test_size=0.15, stratify=y, random_state=42)\n",
        "\n",
        "X_train, X_val, y_train, y_val = train_test_split(\n",
        "    X_train_full, y_train_full, test_size=0.176,\n",
        "    stratify=y_train_full, random_state=42)\n"
      ],
      "metadata": {
        "id": "rpQ3SmlkC629"
      },
      "execution_count": 7,
      "outputs": []
    },
    {
      "cell_type": "code",
      "source": [
        "from tensorflow.keras import layers, regularizers, models, optimizers, callbacks, metrics\n"
      ],
      "metadata": {
        "id": "NJBA_o07C_fc"
      },
      "execution_count": 8,
      "outputs": []
    },
    {
      "cell_type": "code",
      "source": [
        "def build_model(input_dim, dropout_rate=0.30, l2_factor=0.001):\n",
        "    reg = regularizers.l2(l2_factor)\n",
        "    inputs = layers.Input(shape=(input_dim,))\n",
        "\n",
        "    # Hidden layer 1\n",
        "    x = layers.Dense(64, activation=\"relu\", kernel_regularizer=reg)(inputs)\n",
        "    x = layers.Dropout(dropout_rate)(x)\n",
        "\n",
        "    # Hidden layer 2\n",
        "    x = layers.Dense(32, activation=\"relu\", kernel_regularizer=reg)(x)\n",
        "    x = layers.Dropout(dropout_rate)(x)\n",
        "\n",
        "    # Output layer: 1 neuron, sigmoid → probability\n",
        "    outputs = layers.Dense(1, activation=\"sigmoid\")(x)\n",
        "    return models.Model(inputs, outputs)\n"
      ],
      "metadata": {
        "id": "6WrON3dmDC-h"
      },
      "execution_count": 9,
      "outputs": []
    },
    {
      "cell_type": "code",
      "source": [
        "model = build_model(input_dim=X.shape[1])\n",
        "opt = optimizers.AdamW(learning_rate=1e-3, weight_decay=1e-3)"
      ],
      "metadata": {
        "id": "EAmnlxxHDGK6"
      },
      "execution_count": 10,
      "outputs": []
    },
    {
      "cell_type": "code",
      "source": [
        "model.compile(\n",
        "    optimizer=opt,\n",
        "    loss=\"binary_crossentropy\",\n",
        "    metrics=[\n",
        "        metrics.BinaryAccuracy(name=\"acc\"),\n",
        "        metrics.Precision(name=\"prec\"),\n",
        "        metrics.Recall(name=\"rec\")\n",
        "    ]\n",
        ")\n"
      ],
      "metadata": {
        "id": "Go0ThOpfDMKs"
      },
      "execution_count": 11,
      "outputs": []
    },
    {
      "cell_type": "code",
      "source": [
        "es = callbacks.EarlyStopping(\n",
        "    monitor=\"val_loss\",\n",
        "    patience=5,\n",
        "    restore_best_weights=True\n",
        ")\n"
      ],
      "metadata": {
        "id": "s8vR5QQ0DOzz"
      },
      "execution_count": 12,
      "outputs": []
    },
    {
      "cell_type": "code",
      "source": [
        "history = model.fit(\n",
        "    preprocess.fit_transform(X_train), y_train,\n",
        "    validation_data=(preprocess.transform(X_val), y_val),\n",
        "    epochs=100,\n",
        "    batch_size=32,\n",
        "    callbacks=[es],\n",
        "    verbose=2\n",
        ")\n"
      ],
      "metadata": {
        "colab": {
          "base_uri": "https://localhost:8080/"
        },
        "id": "PSMglWqSDTVf",
        "outputId": "1f3c92a6-c156-45a3-f605-ba4a3d9e292f"
      },
      "execution_count": 13,
      "outputs": [
        {
          "output_type": "stream",
          "name": "stdout",
          "text": [
            "Epoch 1/100\n",
            "72/72 - 3s - 47ms/step - acc: 0.5606 - loss: 0.7519 - prec: 0.3825 - rec: 0.2056 - val_acc: 0.6041 - val_loss: 0.7189 - val_prec: 0.4211 - val_rec: 0.0419\n",
            "Epoch 2/100\n",
            "72/72 - 0s - 4ms/step - acc: 0.5981 - loss: 0.7244 - prec: 0.4494 - rec: 0.1341 - val_acc: 0.6224 - val_loss: 0.7070 - val_prec: 0.7500 - val_rec: 0.0471\n",
            "Epoch 3/100\n",
            "72/72 - 0s - 4ms/step - acc: 0.6068 - loss: 0.7123 - prec: 0.4870 - rec: 0.1464 - val_acc: 0.6367 - val_loss: 0.6959 - val_prec: 0.8095 - val_rec: 0.0890\n",
            "Epoch 4/100\n",
            "72/72 - 1s - 9ms/step - acc: 0.6242 - loss: 0.6943 - prec: 0.5632 - rec: 0.1642 - val_acc: 0.6449 - val_loss: 0.6856 - val_prec: 0.8400 - val_rec: 0.1099\n",
            "Epoch 5/100\n",
            "72/72 - 0s - 4ms/step - acc: 0.6282 - loss: 0.6918 - prec: 0.5729 - rec: 0.1844 - val_acc: 0.6592 - val_loss: 0.6778 - val_prec: 0.8333 - val_rec: 0.1571\n",
            "Epoch 6/100\n",
            "72/72 - 1s - 9ms/step - acc: 0.6408 - loss: 0.6812 - prec: 0.6120 - rec: 0.2168 - val_acc: 0.6776 - val_loss: 0.6687 - val_prec: 0.8000 - val_rec: 0.2304\n",
            "Epoch 7/100\n",
            "72/72 - 1s - 8ms/step - acc: 0.6508 - loss: 0.6706 - prec: 0.6374 - rec: 0.2436 - val_acc: 0.6735 - val_loss: 0.6627 - val_prec: 0.7183 - val_rec: 0.2670\n",
            "Epoch 8/100\n",
            "72/72 - 0s - 4ms/step - acc: 0.6504 - loss: 0.6772 - prec: 0.6274 - rec: 0.2559 - val_acc: 0.6755 - val_loss: 0.6578 - val_prec: 0.7162 - val_rec: 0.2775\n",
            "Epoch 9/100\n",
            "72/72 - 0s - 4ms/step - acc: 0.6635 - loss: 0.6610 - prec: 0.6440 - rec: 0.3073 - val_acc: 0.6776 - val_loss: 0.6525 - val_prec: 0.7089 - val_rec: 0.2932\n",
            "Epoch 10/100\n",
            "72/72 - 0s - 5ms/step - acc: 0.6635 - loss: 0.6599 - prec: 0.6461 - rec: 0.3039 - val_acc: 0.6694 - val_loss: 0.6496 - val_prec: 0.6706 - val_rec: 0.2984\n",
            "Epoch 11/100\n",
            "72/72 - 1s - 7ms/step - acc: 0.6517 - loss: 0.6589 - prec: 0.6096 - rec: 0.2983 - val_acc: 0.6694 - val_loss: 0.6460 - val_prec: 0.6883 - val_rec: 0.2775\n",
            "Epoch 12/100\n",
            "72/72 - 1s - 9ms/step - acc: 0.6582 - loss: 0.6559 - prec: 0.6270 - rec: 0.3061 - val_acc: 0.6694 - val_loss: 0.6446 - val_prec: 0.6706 - val_rec: 0.2984\n",
            "Epoch 13/100\n",
            "72/72 - 1s - 9ms/step - acc: 0.6665 - loss: 0.6431 - prec: 0.6526 - rec: 0.3106 - val_acc: 0.6837 - val_loss: 0.6412 - val_prec: 0.7000 - val_rec: 0.3298\n",
            "Epoch 14/100\n",
            "72/72 - 0s - 7ms/step - acc: 0.6626 - loss: 0.6469 - prec: 0.6318 - rec: 0.3240 - val_acc: 0.6796 - val_loss: 0.6398 - val_prec: 0.6809 - val_rec: 0.3351\n",
            "Epoch 15/100\n",
            "72/72 - 0s - 6ms/step - acc: 0.6687 - loss: 0.6388 - prec: 0.6497 - rec: 0.3274 - val_acc: 0.6837 - val_loss: 0.6371 - val_prec: 0.6875 - val_rec: 0.3455\n",
            "Epoch 16/100\n",
            "72/72 - 0s - 4ms/step - acc: 0.6713 - loss: 0.6444 - prec: 0.6556 - rec: 0.3318 - val_acc: 0.6735 - val_loss: 0.6371 - val_prec: 0.6742 - val_rec: 0.3141\n",
            "Epoch 17/100\n",
            "72/72 - 0s - 4ms/step - acc: 0.6783 - loss: 0.6340 - prec: 0.6772 - rec: 0.3352 - val_acc: 0.6816 - val_loss: 0.6348 - val_prec: 0.6923 - val_rec: 0.3298\n",
            "Epoch 18/100\n",
            "72/72 - 0s - 4ms/step - acc: 0.6857 - loss: 0.6337 - prec: 0.6768 - rec: 0.3721 - val_acc: 0.6796 - val_loss: 0.6347 - val_prec: 0.6735 - val_rec: 0.3455\n",
            "Epoch 19/100\n",
            "72/72 - 1s - 8ms/step - acc: 0.6866 - loss: 0.6332 - prec: 0.6880 - rec: 0.3598 - val_acc: 0.6796 - val_loss: 0.6356 - val_prec: 0.6771 - val_rec: 0.3403\n",
            "Epoch 20/100\n",
            "72/72 - 0s - 4ms/step - acc: 0.6683 - loss: 0.6354 - prec: 0.6432 - rec: 0.3363 - val_acc: 0.6776 - val_loss: 0.6342 - val_prec: 0.6737 - val_rec: 0.3351\n",
            "Epoch 21/100\n",
            "72/72 - 0s - 4ms/step - acc: 0.6870 - loss: 0.6271 - prec: 0.6954 - rec: 0.3520 - val_acc: 0.6755 - val_loss: 0.6332 - val_prec: 0.6702 - val_rec: 0.3298\n",
            "Epoch 22/100\n",
            "72/72 - 0s - 4ms/step - acc: 0.6779 - loss: 0.6197 - prec: 0.6612 - rec: 0.3575 - val_acc: 0.6776 - val_loss: 0.6333 - val_prec: 0.6813 - val_rec: 0.3246\n",
            "Epoch 23/100\n",
            "72/72 - 0s - 6ms/step - acc: 0.6840 - loss: 0.6215 - prec: 0.6660 - rec: 0.3810 - val_acc: 0.6714 - val_loss: 0.6318 - val_prec: 0.6596 - val_rec: 0.3246\n",
            "Epoch 24/100\n",
            "72/72 - 1s - 7ms/step - acc: 0.6800 - loss: 0.6241 - prec: 0.6594 - rec: 0.3721 - val_acc: 0.6714 - val_loss: 0.6327 - val_prec: 0.6531 - val_rec: 0.3351\n",
            "Epoch 25/100\n",
            "72/72 - 0s - 4ms/step - acc: 0.6805 - loss: 0.6206 - prec: 0.6687 - rec: 0.3587 - val_acc: 0.6776 - val_loss: 0.6329 - val_prec: 0.6634 - val_rec: 0.3508\n",
            "Epoch 26/100\n",
            "72/72 - 0s - 5ms/step - acc: 0.6796 - loss: 0.6209 - prec: 0.6575 - rec: 0.3732 - val_acc: 0.6735 - val_loss: 0.6311 - val_prec: 0.6632 - val_rec: 0.3298\n",
            "Epoch 27/100\n",
            "72/72 - 1s - 8ms/step - acc: 0.6861 - loss: 0.6140 - prec: 0.6827 - rec: 0.3654 - val_acc: 0.6592 - val_loss: 0.6303 - val_prec: 0.6304 - val_rec: 0.3037\n",
            "Epoch 28/100\n",
            "72/72 - 1s - 8ms/step - acc: 0.6800 - loss: 0.6198 - prec: 0.6607 - rec: 0.3698 - val_acc: 0.6673 - val_loss: 0.6307 - val_prec: 0.6458 - val_rec: 0.3246\n",
            "Epoch 29/100\n",
            "72/72 - 1s - 9ms/step - acc: 0.6818 - loss: 0.6248 - prec: 0.6602 - rec: 0.3799 - val_acc: 0.6755 - val_loss: 0.6305 - val_prec: 0.6667 - val_rec: 0.3351\n",
            "Epoch 30/100\n",
            "72/72 - 1s - 9ms/step - acc: 0.6840 - loss: 0.6149 - prec: 0.6660 - rec: 0.3810 - val_acc: 0.6633 - val_loss: 0.6296 - val_prec: 0.6477 - val_rec: 0.2984\n",
            "Epoch 31/100\n",
            "72/72 - 0s - 4ms/step - acc: 0.6765 - loss: 0.6190 - prec: 0.6533 - rec: 0.3642 - val_acc: 0.6776 - val_loss: 0.6310 - val_prec: 0.6774 - val_rec: 0.3298\n",
            "Epoch 32/100\n",
            "72/72 - 1s - 8ms/step - acc: 0.6866 - loss: 0.6189 - prec: 0.6753 - rec: 0.3788 - val_acc: 0.6755 - val_loss: 0.6293 - val_prec: 0.6778 - val_rec: 0.3194\n",
            "Epoch 33/100\n",
            "72/72 - 0s - 4ms/step - acc: 0.6818 - loss: 0.6118 - prec: 0.6647 - rec: 0.3721 - val_acc: 0.6776 - val_loss: 0.6275 - val_prec: 0.6774 - val_rec: 0.3298\n",
            "Epoch 34/100\n",
            "72/72 - 1s - 9ms/step - acc: 0.6874 - loss: 0.6079 - prec: 0.6692 - rec: 0.3933 - val_acc: 0.6796 - val_loss: 0.6267 - val_prec: 0.6809 - val_rec: 0.3351\n",
            "Epoch 35/100\n",
            "72/72 - 0s - 4ms/step - acc: 0.6896 - loss: 0.6127 - prec: 0.6723 - rec: 0.3989 - val_acc: 0.6816 - val_loss: 0.6264 - val_prec: 0.6699 - val_rec: 0.3613\n",
            "Epoch 36/100\n",
            "72/72 - 0s - 5ms/step - acc: 0.6835 - loss: 0.6094 - prec: 0.6603 - rec: 0.3888 - val_acc: 0.6837 - val_loss: 0.6258 - val_prec: 0.6837 - val_rec: 0.3508\n",
            "Epoch 37/100\n",
            "72/72 - 1s - 10ms/step - acc: 0.6853 - loss: 0.6172 - prec: 0.6713 - rec: 0.3788 - val_acc: 0.6714 - val_loss: 0.6273 - val_prec: 0.6744 - val_rec: 0.3037\n",
            "Epoch 38/100\n",
            "72/72 - 0s - 6ms/step - acc: 0.6848 - loss: 0.6159 - prec: 0.6713 - rec: 0.3765 - val_acc: 0.6776 - val_loss: 0.6275 - val_prec: 0.6667 - val_rec: 0.3455\n",
            "Epoch 39/100\n",
            "72/72 - 1s - 8ms/step - acc: 0.6870 - loss: 0.6100 - prec: 0.6759 - rec: 0.3799 - val_acc: 0.6796 - val_loss: 0.6262 - val_prec: 0.6809 - val_rec: 0.3351\n",
            "Epoch 40/100\n",
            "72/72 - 1s - 9ms/step - acc: 0.6805 - loss: 0.6093 - prec: 0.6646 - rec: 0.3654 - val_acc: 0.6776 - val_loss: 0.6274 - val_prec: 0.6634 - val_rec: 0.3508\n",
            "Epoch 41/100\n",
            "72/72 - 1s - 7ms/step - acc: 0.6813 - loss: 0.6060 - prec: 0.6559 - rec: 0.3855 - val_acc: 0.6776 - val_loss: 0.6272 - val_prec: 0.6737 - val_rec: 0.3351\n"
          ]
        }
      ]
    },
    {
      "cell_type": "code",
      "source": [
        "X_test_pp = preprocess.transform(X_test)\n",
        "y_pred_proba = model.predict(X_test_pp).ravel()\n",
        "y_pred = (y_pred_proba > 0.5).astype(int)\n"
      ],
      "metadata": {
        "colab": {
          "base_uri": "https://localhost:8080/"
        },
        "id": "ViLlMzZhDYgv",
        "outputId": "7d776498-aefe-4cb4-b9d1-73f628ac1bdb"
      },
      "execution_count": 15,
      "outputs": [
        {
          "output_type": "stream",
          "name": "stdout",
          "text": [
            "\u001b[1m16/16\u001b[0m \u001b[32m━━━━━━━━━━━━━━━━━━━━\u001b[0m\u001b[37m\u001b[0m \u001b[1m0s\u001b[0m 5ms/step\n"
          ]
        }
      ]
    },
    {
      "cell_type": "code",
      "source": [
        "from sklearn.metrics import classification_report, f1_score\n",
        "\n",
        "print(classification_report(y_test, y_pred, digits=4))\n"
      ],
      "metadata": {
        "colab": {
          "base_uri": "https://localhost:8080/"
        },
        "id": "rrPa-ADQDd3L",
        "outputId": "5f16ebb7-70d6-4216-d167-c65335062947"
      },
      "execution_count": 16,
      "outputs": [
        {
          "output_type": "stream",
          "name": "stdout",
          "text": [
            "              precision    recall  f1-score   support\n",
            "\n",
            "           0     0.6875    0.8800    0.7719       300\n",
            "           1     0.6667    0.3750    0.4800       192\n",
            "\n",
            "    accuracy                         0.6829       492\n",
            "   macro avg     0.6771    0.6275    0.6260       492\n",
            "weighted avg     0.6794    0.6829    0.6580       492\n",
            "\n"
          ]
        }
      ]
    },
    {
      "cell_type": "code",
      "source": [
        "f1  = f1_score(y_test, y_pred)\n",
        "acc = (y_pred == y_test).mean()\n",
        "print(f\"Accuracy = {acc:.3f}  F1 = {f1:.3f}\")\n"
      ],
      "metadata": {
        "colab": {
          "base_uri": "https://localhost:8080/"
        },
        "id": "rrMEntXqDhSf",
        "outputId": "650e83ed-c4cc-4b08-f8ad-a0727ca687bc"
      },
      "execution_count": 17,
      "outputs": [
        {
          "output_type": "stream",
          "name": "stdout",
          "text": [
            "Accuracy = 0.683  F1 = 0.480\n"
          ]
        }
      ]
    },
    {
      "cell_type": "code",
      "source": [
        "import matplotlib.pyplot as plt\n",
        "\n",
        "plt.plot(history.history[\"loss\"], label=\"Train Loss\")\n",
        "plt.plot(history.history[\"val_loss\"], label=\"Val Loss\")\n",
        "plt.legend()\n",
        "plt.title(\"Loss over Epochs\")\n",
        "plt.xlabel(\"Epoch\")\n",
        "plt.ylabel(\"Binary Crossentropy Loss\")\n",
        "plt.show()\n"
      ],
      "metadata": {
        "colab": {
          "base_uri": "https://localhost:8080/",
          "height": 472
        },
        "id": "UkjRKjrBDlo1",
        "outputId": "bd9732cb-b085-43cf-f266-5817dd51faf8"
      },
      "execution_count": 18,
      "outputs": [
        {
          "output_type": "display_data",
          "data": {
            "text/plain": [
              "<Figure size 640x480 with 1 Axes>"
            ],
            "image/png": "[encoded data removed]"
          },
          "metadata": {}
        }
      ]
    }
  ]
}